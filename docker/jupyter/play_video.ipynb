{
 "cells": [
  {
   "cell_type": "code",
   "execution_count": null,
   "metadata": {},
   "outputs": [],
   "source": [
    "import os, sys, re\n",
    "from functools import cmp_to_key\n",
    "from itertools import repeat\n",
    "from glob import glob\n",
    "\n",
    "from IPython.display import Video # Audio, Image, HTML\n",
    "\n",
    "\n",
    "def cmpPath(x, y):\n",
    "    def mf(string):\n",
    "        m = re.search(\"\\d+\\.?\\d*\", string)\n",
    "        if m is None: return 0.0\n",
    "        return float(m.group())\n",
    "\n",
    "    fp, fb = os.path.dirname, os.path.basename\n",
    "    v1 = [mf(fp(x)), mf(fb(x))]\n",
    "    v2 = [mf(fp(y)), mf(fb(y))]\n",
    "\n",
    "    if v1[0] < v2[0]:\n",
    "        return -1\n",
    "    elif v1[0] > v2[0]:\n",
    "        return 1\n",
    "    else:\n",
    "        return -1 if v1[1] < v2[1] else 1\n",
    "\n",
    "\n",
    "def subVideos(path=\"\", maxLevel=0, suffix=\"mp4\"):\n",
    "   \"\"\"\n",
    "   maxLevel = 0 for current directory, 1 for subdirectories\n",
    "   \"\"\"\n",
    "   result = []\n",
    "   for i in range(maxLevel+1):\n",
    "       x = list(repeat(\"*\", i))\n",
    "       x.insert(0, path)\n",
    "       x.append(\"*.\" + suffix)\n",
    "       result = glob(os.path.join(*x))\n",
    "       if len(result) > 0: break\n",
    "\n",
    "   return result"
   ]
  },
  {
   "cell_type": "code",
   "execution_count": null,
   "metadata": {},
   "outputs": [],
   "source": [
    "videoList = sorted(subVideos(maxLevel=1), key=cmp_to_key(cmpPath))\n",
    "if len(videoList) == 0: sys.exit(\"no videos found\")\n",
    "\n",
    "for i in range(len(videoList)):\n",
    "    print(\"{:4s}\".format(\"[\"+str(i)+\"]\"), videoList[i])\n",
    "\n",
    "Video(videoList[0], width=800)"
   ]
  }
 ],
 "metadata": {
  "kernelspec": {
   "display_name": "Python 3",
   "language": "python",
   "name": "python3"
  },
  "language_info": {
   "codemirror_mode": {
    "name": "ipython",
    "version": 3
   },
   "file_extension": ".py",
   "mimetype": "text/x-python",
   "name": "python",
   "nbconvert_exporter": "python",
   "pygments_lexer": "ipython3",
   "version": "3.6.9"
  }
 },
 "nbformat": 4,
 "nbformat_minor": 4
}
