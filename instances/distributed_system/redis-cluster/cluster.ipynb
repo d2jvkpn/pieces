{
 "cells": [
  {
   "cell_type": "code",
   "execution_count": 2,
   "metadata": {},
   "outputs": [
    {
     "name": "stdout",
     "output_type": "stream",
     "text": [
      "08b7e83fd23cfa26a229e5a5edbba9a36e967b91f7567d0a59f02a50953ded2c\n"
     ]
    }
   ],
   "source": [
    "docker network create redis-net"
   ]
  },
  {
   "cell_type": "code",
   "execution_count": 3,
   "metadata": {},
   "outputs": [
    {
     "name": "stdout",
     "output_type": "stream",
     "text": [
      "Sending build context to Docker daemon  18.43kB\n",
      "Step 1/5 : FROM redis\n",
      " ---> 16ecd2772934\n",
      "Step 2/5 : ADD redis.conf /root/redis.conf\n",
      " ---> 45a8e8dc55d6\n",
      "Step 3/5 : WORKDIR /root\n",
      " ---> Running in a871c6cec0c0\n",
      "Removing intermediate container a871c6cec0c0\n",
      " ---> cef657f49ac1\n",
      "Step 4/5 : EXPOSE 6379\n",
      " ---> Running in d81f4ac2354c\n",
      "Removing intermediate container d81f4ac2354c\n",
      " ---> 9ac241b33118\n",
      "Step 5/5 : CMD [\"redis-server\", \"/root/redis.conf\"]\n",
      " ---> Running in b61a24ac09d8\n",
      "Removing intermediate container b61a24ac09d8\n",
      " ---> af61133100f3\n",
      "Successfully built af61133100f3\n",
      "Successfully tagged redis:local\n"
     ]
    }
   ],
   "source": [
    "docker build -t redis:local ./"
   ]
  },
  {
   "cell_type": "code",
   "execution_count": 1,
   "metadata": {},
   "outputs": [
    {
     "name": "stdout",
     "output_type": "stream",
     "text": [
      ">>> create container: redis-wk1\n",
      "00f4ce6759e5aa46e59d295207c73ccf259ca436e5af7f1f1a75eb806e691fe5\n",
      ">>> create container: redis-wk2\n",
      "de8e956f53175666a847bcd4d23f9624e9e1f38de1199265418fd25e1a31e2df\n",
      ">>> create container: redis-wk3\n",
      "73b67afa6f9b325b177120abea3b1a1ea7c7fd94b625ceb4c2a1d0f2e6bef461\n",
      ">>> create container: redis-wk4\n",
      "0f62967ff4f288de77ed6342739af992f2012f1d8b2795f4e3315b2f3885ce9f\n",
      ">>> create container: redis-wk5\n",
      "6c01f1f9776f69d3027c0a0784fe7390ee9d726ddb4142e94e7bac72bdcc71d3\n",
      ">>> create container: redis-wk6\n",
      "28745b90da0adad82f5c0a2b2f600537e9002b18b20860f30442cf7244d82205\n",
      ">>> wks: 172.22.0.2, 172.22.0.3, 172.22.0.4, 172.22.0.5, 172.22.0.6, 172.22.0.7\n"
     ]
    }
   ],
   "source": [
    "wks=()\n",
    "for i in $(seq 1 6); do\n",
    "    # pubPort=$((7000 + $i)); --publish=$pubPort:6379\n",
    "    name=redis-wk$i\n",
    "\n",
    "\techo \">>> create container: \"$name\n",
    "    docker run --detach --name=$name --network=redis-net redis:local\n",
    "\n",
    "    ip=$(docker inspect $name | jq -r '.[0].NetworkSettings.Networks.\"redis-net\".IPAddress')\n",
    "    wks+=($ip)\n",
    "done\n",
    "\n",
    "xx=$(printf \", %s\" \"${wks[@]}\")\n",
    "echo \">>> wks: ${xx:2}\""
   ]
  },
  {
   "cell_type": "code",
   "execution_count": 2,
   "metadata": {},
   "outputs": [
    {
     "name": "stdout",
     "output_type": "stream",
     "text": [
      " 172.22.0.2:6379 172.22.0.3:6379 172.22.0.4:6379 172.22.0.5:6379 172.22.0.6:6379 172.22.0.7:6379"
     ]
    }
   ],
   "source": [
    "printf \" %s:6379\" ${wks[@]}"
   ]
  },
  {
   "cell_type": "code",
   "execution_count": 3,
   "metadata": {},
   "outputs": [
    {
     "name": "stdout",
     "output_type": "stream",
     "text": [
      "\u001b[29;1m>>> Performing hash slots allocation on 6 nodes...\n",
      "\u001b[0mMaster[0] -> Slots 0 - 5460\n",
      "Master[1] -> Slots 5461 - 10922\n",
      "Master[2] -> Slots 10923 - 16383\n",
      "Adding replica 172.22.0.6:6379 to 172.22.0.2:6379\n",
      "Adding replica 172.22.0.7:6379 to 172.22.0.3:6379\n",
      "Adding replica 172.22.0.5:6379 to 172.22.0.4:6379\n",
      "M: 8323eb5ff1f6d9f18017269f603cd5f72e92f62b 172.22.0.2:6379\n",
      "   slots:[0-5460] (5461 slots) master\n",
      "M: f5b18896cda57561477216f0a1dead7fbfa5c4c9 172.22.0.3:6379\n",
      "   slots:[5461-10922] (5462 slots) master\n",
      "M: 3063245b7cd4185c8d8f1ff04f804f78b880b794 172.22.0.4:6379\n",
      "   slots:[10923-16383] (5461 slots) master\n",
      "S: a9e7090ba1c798d59b43f2b19c5586341e357e54 172.22.0.5:6379\n",
      "   replicates 3063245b7cd4185c8d8f1ff04f804f78b880b794\n",
      "S: 827b9579b71e976ad569d59cc27f963e2a0f677f 172.22.0.6:6379\n",
      "   replicates 8323eb5ff1f6d9f18017269f603cd5f72e92f62b\n",
      "S: 6d38b792ba3abc212e566e4e343dca8b78149f68 172.22.0.7:6379\n",
      "   replicates f5b18896cda57561477216f0a1dead7fbfa5c4c9\n",
      "\u001b[29;1m>>> Nodes configuration updated\n",
      "\u001b[0m\u001b[29;1m>>> Assign a different config epoch to each node\n",
      "\u001b[0m\u001b[29;1m>>> Sending CLUSTER MEET messages to join the cluster\n",
      "\u001b[0mWaiting for the cluster to join\n",
      ".\n",
      "\u001b[29;1m>>> Performing Cluster Check (using node 172.22.0.2:6379)\n",
      "\u001b[0mM: 8323eb5ff1f6d9f18017269f603cd5f72e92f62b 172.22.0.2:6379\n",
      "   slots:[0-5460] (5461 slots) master\n",
      "   1 additional replica(s)\n",
      "S: a9e7090ba1c798d59b43f2b19c5586341e357e54 172.22.0.5:6379\n",
      "   slots: (0 slots) slave\n",
      "   replicates 3063245b7cd4185c8d8f1ff04f804f78b880b794\n",
      "S: 827b9579b71e976ad569d59cc27f963e2a0f677f 172.22.0.6:6379\n",
      "   slots: (0 slots) slave\n",
      "   replicates 8323eb5ff1f6d9f18017269f603cd5f72e92f62b\n",
      "M: 3063245b7cd4185c8d8f1ff04f804f78b880b794 172.22.0.4:6379\n",
      "   slots:[10923-16383] (5461 slots) master\n",
      "   1 additional replica(s)\n",
      "S: 6d38b792ba3abc212e566e4e343dca8b78149f68 172.22.0.7:6379\n",
      "   slots: (0 slots) slave\n",
      "   replicates f5b18896cda57561477216f0a1dead7fbfa5c4c9\n",
      "M: f5b18896cda57561477216f0a1dead7fbfa5c4c9 172.22.0.3:6379\n",
      "   slots:[5461-10922] (5462 slots) master\n",
      "   1 additional replica(s)\n",
      "\u001b[32;1m[OK] All nodes agree about slots configuration.\n",
      "\u001b[0m\u001b[29;1m>>> Check for open slots...\n",
      "\u001b[0m\u001b[29;1m>>> Check slots coverage...\n",
      "\u001b[0m\u001b[32;1m[OK] All 16384 slots covered.\n",
      "\u001b[0m"
     ]
    }
   ],
   "source": [
    "echo \"yes\" | redis-cli --cluster create $(printf \" %s:6379\" ${wks[@]}) --cluster-replicas 1 --cluster-yes\n",
    "# redis-cli --cluster create ${wks[@]} --cluster-replicas 1 --cluster-yes"
   ]
  },
  {
   "cell_type": "code",
   "execution_count": 4,
   "metadata": {},
   "outputs": [
    {
     "name": "stdout",
     "output_type": "stream",
     "text": [
      "CONTAINER ID        IMAGE               COMMAND                  CREATED             STATUS              PORTS               NAMES\n",
      "28745b90da0a        redis:local         \"docker-entrypoint.s…\"   35 seconds ago      Up 35 seconds       6379/tcp            redis-wk6\n",
      "6c01f1f9776f        redis:local         \"docker-entrypoint.s…\"   36 seconds ago      Up 35 seconds       6379/tcp            redis-wk5\n",
      "0f62967ff4f2        redis:local         \"docker-entrypoint.s…\"   36 seconds ago      Up 36 seconds       6379/tcp            redis-wk4\n",
      "73b67afa6f9b        redis:local         \"docker-entrypoint.s…\"   37 seconds ago      Up 36 seconds       6379/tcp            redis-wk3\n",
      "de8e956f5317        redis:local         \"docker-entrypoint.s…\"   37 seconds ago      Up 36 seconds       6379/tcp            redis-wk2\n",
      "00f4ce6759e5        redis:local         \"docker-entrypoint.s…\"   38 seconds ago      Up 37 seconds       6379/tcp            redis-wk1\n"
     ]
    }
   ],
   "source": [
    "docker ps -a"
   ]
  },
  {
   "cell_type": "code",
   "execution_count": 5,
   "metadata": {},
   "outputs": [
    {
     "name": "stdout",
     "output_type": "stream",
     "text": [
      "172.22.0.2\n"
     ]
    }
   ],
   "source": [
    "echo ${wks[0]}"
   ]
  },
  {
   "cell_type": "code",
   "execution_count": 6,
   "metadata": {},
   "outputs": [
    {
     "name": "stdout",
     "output_type": "stream",
     "text": [
      ">>> run set hello world @172.22.0.2\n",
      "OK\n",
      "OK\n",
      ">>> run get hello @172.22.0.5\n",
      "\"world\"\n",
      "\"2020\"\n"
     ]
    }
   ],
   "source": [
    "echo \">>> run set hello world @\"${wks[0]}\n",
    "redis-cli -c -h ${wks[0]} set hello world\n",
    "redis-cli -c -h ${wks[0]} set rover 2020\n",
    "\n",
    "echo \">>> run get hello @\"${wks[3]}\n",
    "redis-cli -c -h \"${wks[3]}\" get hello\n",
    "redis-cli -c -h \"${wks[3]}\" get rover"
   ]
  },
  {
   "cell_type": "code",
   "execution_count": 10,
   "metadata": {},
   "outputs": [
    {
     "name": "stdout",
     "output_type": "stream",
     "text": [
      "a9e7090ba1c798d59b43f2b19c5586341e357e54 172.22.0.5:6379@16379 slave 3063245b7cd4185c8d8f1ff04f804f78b880b794 0 1603798345659 3 connected\n",
      "827b9579b71e976ad569d59cc27f963e2a0f677f 172.22.0.6:6379@16379 slave 8323eb5ff1f6d9f18017269f603cd5f72e92f62b 0 1603798345558 1 connected\n",
      "3063245b7cd4185c8d8f1ff04f804f78b880b794 172.22.0.4:6379@16379 master - 0 1603798345056 3 connected 10923-16383\n",
      "8323eb5ff1f6d9f18017269f603cd5f72e92f62b 172.22.0.2:6379@16379 myself,master - 0 1603798345000 1 connected 0-5460\n",
      "6d38b792ba3abc212e566e4e343dca8b78149f68 172.22.0.7:6379@16379 slave f5b18896cda57561477216f0a1dead7fbfa5c4c9 0 1603798344000 2 connected\n",
      "f5b18896cda57561477216f0a1dead7fbfa5c4c9 172.22.0.3:6379@16379 master - 0 1603798345000 2 connected 5461-10922\n"
     ]
    }
   ],
   "source": [
    "# redis-cli -c -h ${wks[0]} cluster reset\n",
    "##!! redis-cli --cluster reshard ${wks[0]}:6379\n",
    "\n",
    "redis-cli -h ${wks[0]} -p 6379 cluster nodes"
   ]
  },
  {
   "cell_type": "code",
   "execution_count": 11,
   "metadata": {},
   "outputs": [
    {
     "name": "stdout",
     "output_type": "stream",
     "text": [
      "cluster_state:ok\n",
      "cluster_slots_assigned:16384\n",
      "cluster_slots_ok:16384\n",
      "cluster_slots_pfail:0\n",
      "cluster_slots_fail:0\n",
      "cluster_known_nodes:6\n",
      "cluster_size:3\n",
      "cluster_current_epoch:6\n",
      "cluster_my_epoch:1\n",
      "cluster_stats_messages_ping_sent:2016\n",
      "cluster_stats_messages_pong_sent:2037\n",
      "cluster_stats_messages_sent:4053\n",
      "cluster_stats_messages_ping_received:2032\n",
      "cluster_stats_messages_pong_received:2016\n",
      "cluster_stats_messages_meet_received:5\n",
      "cluster_stats_messages_received:4053\n"
     ]
    }
   ],
   "source": [
    "redis-cli -c -h ${wks[0]} cluster info"
   ]
  },
  {
   "cell_type": "code",
   "execution_count": 12,
   "metadata": {},
   "outputs": [
    {
     "name": "stdout",
     "output_type": "stream",
     "text": [
      "172.22.0.2:6379 (8323eb5f...) -> 2 keys | 5461 slots | 1 slaves.\n",
      "172.22.0.4:6379 (3063245b...) -> 0 keys | 5461 slots | 1 slaves.\n",
      "172.22.0.3:6379 (f5b18896...) -> 0 keys | 5462 slots | 1 slaves.\n",
      "\u001b[32;1m[OK] 2 keys in 3 masters.\n",
      "\u001b[0m0.00 keys per slot on average.\n",
      "\u001b[29;1m>>> Performing Cluster Check (using node 172.22.0.2:6379)\n",
      "\u001b[0mM: 8323eb5ff1f6d9f18017269f603cd5f72e92f62b 172.22.0.2:6379\n",
      "   slots:[0-5460] (5461 slots) master\n",
      "   1 additional replica(s)\n",
      "S: a9e7090ba1c798d59b43f2b19c5586341e357e54 172.22.0.5:6379\n",
      "   slots: (0 slots) slave\n",
      "   replicates 3063245b7cd4185c8d8f1ff04f804f78b880b794\n",
      "S: 827b9579b71e976ad569d59cc27f963e2a0f677f 172.22.0.6:6379\n",
      "   slots: (0 slots) slave\n",
      "   replicates 8323eb5ff1f6d9f18017269f603cd5f72e92f62b\n",
      "M: 3063245b7cd4185c8d8f1ff04f804f78b880b794 172.22.0.4:6379\n",
      "   slots:[10923-16383] (5461 slots) master\n",
      "   1 additional replica(s)\n",
      "S: 6d38b792ba3abc212e566e4e343dca8b78149f68 172.22.0.7:6379\n",
      "   slots: (0 slots) slave\n",
      "   replicates f5b18896cda57561477216f0a1dead7fbfa5c4c9\n",
      "M: f5b18896cda57561477216f0a1dead7fbfa5c4c9 172.22.0.3:6379\n",
      "   slots:[5461-10922] (5462 slots) master\n",
      "   1 additional replica(s)\n",
      "\u001b[32;1m[OK] All nodes agree about slots configuration.\n",
      "\u001b[0m\u001b[29;1m>>> Check for open slots...\n",
      "\u001b[0m\u001b[29;1m>>> Check slots coverage...\n",
      "\u001b[0m\u001b[32;1m[OK] All 16384 slots covered.\n",
      "\u001b[0m"
     ]
    }
   ],
   "source": [
    "redis-cli --cluster check ${wks[0]}:6379"
   ]
  },
  {
   "cell_type": "code",
   "execution_count": 13,
   "metadata": {},
   "outputs": [
    {
     "name": "stdout",
     "output_type": "stream",
     "text": [
      "Cluster Manager Commands:\n",
      "  create         host1:port1 ... hostN:portN\n",
      "                 --cluster-replicas <arg>\n",
      "  check          host:port\n",
      "                 --cluster-search-multiple-owners\n",
      "  info           host:port\n",
      "  fix            host:port\n",
      "                 --cluster-search-multiple-owners\n",
      "                 --cluster-fix-with-unreachable-masters\n",
      "  reshard        host:port\n",
      "                 --cluster-from <arg>\n",
      "                 --cluster-to <arg>\n",
      "                 --cluster-slots <arg>\n",
      "                 --cluster-yes\n",
      "                 --cluster-timeout <arg>\n",
      "                 --cluster-pipeline <arg>\n",
      "                 --cluster-replace\n",
      "  rebalance      host:port\n",
      "                 --cluster-weight <node1=w1...nodeN=wN>\n",
      "                 --cluster-use-empty-masters\n",
      "                 --cluster-timeout <arg>\n",
      "                 --cluster-simulate\n",
      "                 --cluster-pipeline <arg>\n",
      "                 --cluster-threshold <arg>\n",
      "                 --cluster-replace\n",
      "  add-node       new_host:new_port existing_host:existing_port\n",
      "                 --cluster-slave\n",
      "                 --cluster-master-id <arg>\n",
      "  del-node       host:port node_id\n",
      "  call           host:port command arg arg .. arg\n",
      "                 --cluster-only-masters\n",
      "                 --cluster-only-replicas\n",
      "  set-timeout    host:port milliseconds\n",
      "  import         host:port\n",
      "                 --cluster-from <arg>\n",
      "                 --cluster-copy\n",
      "                 --cluster-replace\n",
      "  backup         host:port backup_directory\n",
      "  help           \n",
      "\n",
      "For check, fix, reshard, del-node, set-timeout you can specify the host and port of any working node in the cluster.\n",
      "\n"
     ]
    },
    {
     "ename": "",
     "evalue": "1",
     "output_type": "error",
     "traceback": []
    }
   ],
   "source": [
    "redis-cli --cluster help"
   ]
  },
  {
   "cell_type": "code",
   "execution_count": 15,
   "metadata": {},
   "outputs": [
    {
     "name": "stdout",
     "output_type": "stream",
     "text": [
      "\u001b[29;1m>>> Performing Cluster Check (using node 172.22.0.2:6379)\n",
      "\u001b[0mM: 8323eb5ff1f6d9f18017269f603cd5f72e92f62b 172.22.0.2:6379\n",
      "   slots:[0-5460] (5461 slots) master\n",
      "   1 additional replica(s)\n",
      "S: a9e7090ba1c798d59b43f2b19c5586341e357e54 172.22.0.5:6379\n",
      "   slots: (0 slots) slave\n",
      "   replicates 3063245b7cd4185c8d8f1ff04f804f78b880b794\n",
      "S: 827b9579b71e976ad569d59cc27f963e2a0f677f 172.22.0.6:6379\n",
      "   slots: (0 slots) slave\n",
      "   replicates 8323eb5ff1f6d9f18017269f603cd5f72e92f62b\n",
      "M: 3063245b7cd4185c8d8f1ff04f804f78b880b794 172.22.0.4:6379\n",
      "   slots:[10923-16383] (5461 slots) master\n",
      "   1 additional replica(s)\n",
      "S: 6d38b792ba3abc212e566e4e343dca8b78149f68 172.22.0.7:6379\n",
      "   slots: (0 slots) slave\n",
      "   replicates f5b18896cda57561477216f0a1dead7fbfa5c4c9\n",
      "M: f5b18896cda57561477216f0a1dead7fbfa5c4c9 172.22.0.3:6379\n",
      "   slots:[5461-10922] (5462 slots) master\n",
      "   1 additional replica(s)\n",
      "\u001b[32;1m[OK] All nodes agree about slots configuration.\n",
      "\u001b[0m\u001b[29;1m>>> Check for open slots...\n",
      "\u001b[0m\u001b[29;1m>>> Check slots coverage...\n",
      "\u001b[0m\u001b[32;1m[OK] All 16384 slots covered.\n",
      "\u001b[0mHow many slots do you want to move (from 1 to 16384)? \n"
     ]
    }
   ],
   "source": [
    "redis-cli --cluster reshard 172.22.0.2:6379 \\\n",
    "--cluster-from 8323eb5ff1f6d9f18017269f603cd5f72e92f62b \\\n",
    "--cluster-to 3063245b7cd4185c8d8f1ff04f804f78b880b794"
   ]
  },
  {
   "cell_type": "code",
   "execution_count": 17,
   "metadata": {},
   "outputs": [
    {
     "name": "stdout",
     "output_type": "stream",
     "text": [
      "172.22.0.2:6379 (8323eb5f...) -> 2 keys | 5361 slots | 1 slaves.\n",
      "172.22.0.4:6379 (3063245b...) -> 0 keys | 5561 slots | 1 slaves.\n",
      "172.22.0.3:6379 (f5b18896...) -> 0 keys | 5462 slots | 1 slaves.\n",
      "\u001b[32;1m[OK] 2 keys in 3 masters.\n",
      "\u001b[0m0.00 keys per slot on average.\n",
      "\u001b[29;1m>>> Performing Cluster Check (using node 172.22.0.2:6379)\n",
      "\u001b[0mM: 8323eb5ff1f6d9f18017269f603cd5f72e92f62b 172.22.0.2:6379\n",
      "   slots:[100-5460] (5361 slots) master\n",
      "   1 additional replica(s)\n",
      "S: a9e7090ba1c798d59b43f2b19c5586341e357e54 172.22.0.5:6379\n",
      "   slots: (0 slots) slave\n",
      "   replicates 3063245b7cd4185c8d8f1ff04f804f78b880b794\n",
      "S: 827b9579b71e976ad569d59cc27f963e2a0f677f 172.22.0.6:6379\n",
      "   slots: (0 slots) slave\n",
      "   replicates 8323eb5ff1f6d9f18017269f603cd5f72e92f62b\n",
      "M: 3063245b7cd4185c8d8f1ff04f804f78b880b794 172.22.0.4:6379\n",
      "   slots:[0-99],[10923-16383] (5561 slots) master\n",
      "   1 additional replica(s)\n",
      "S: 6d38b792ba3abc212e566e4e343dca8b78149f68 172.22.0.7:6379\n",
      "   slots: (0 slots) slave\n",
      "   replicates f5b18896cda57561477216f0a1dead7fbfa5c4c9\n",
      "M: f5b18896cda57561477216f0a1dead7fbfa5c4c9 172.22.0.3:6379\n",
      "   slots:[5461-10922] (5462 slots) master\n",
      "   1 additional replica(s)\n",
      "\u001b[32;1m[OK] All nodes agree about slots configuration.\n",
      "\u001b[0m\u001b[29;1m>>> Check for open slots...\n",
      "\u001b[0m\u001b[29;1m>>> Check slots coverage...\n",
      "\u001b[0m\u001b[32;1m[OK] All 16384 slots covered.\n",
      "\u001b[0m"
     ]
    }
   ],
   "source": [
    "redis-cli --cluster check ${wks[0]}:6379"
   ]
  },
  {
   "cell_type": "code",
   "execution_count": null,
   "metadata": {},
   "outputs": [],
   "source": [
    "redis-cli --cluster del-node ${wks[0]}:6379 6d38b792ba3abc212e566e4e343dca8b78149f68"
   ]
  },
  {
   "cell_type": "code",
   "execution_count": 18,
   "metadata": {},
   "outputs": [
    {
     "name": "stdout",
     "output_type": "stream",
     "text": [
      "172.22.0.2:6379 (8323eb5f...) -> 2 keys | 5361 slots | 1 slaves.\n",
      "172.22.0.4:6379 (3063245b...) -> 0 keys | 5561 slots | 1 slaves.\n",
      "172.22.0.3:6379 (f5b18896...) -> 0 keys | 5462 slots | 0 slaves.\n",
      "\u001b[32;1m[OK] 2 keys in 3 masters.\n",
      "\u001b[0m0.00 keys per slot on average.\n",
      "\u001b[29;1m>>> Performing Cluster Check (using node 172.22.0.2:6379)\n",
      "\u001b[0mM: 8323eb5ff1f6d9f18017269f603cd5f72e92f62b 172.22.0.2:6379\n",
      "   slots:[100-5460] (5361 slots) master\n",
      "   1 additional replica(s)\n",
      "S: a9e7090ba1c798d59b43f2b19c5586341e357e54 172.22.0.5:6379\n",
      "   slots: (0 slots) slave\n",
      "   replicates 3063245b7cd4185c8d8f1ff04f804f78b880b794\n",
      "S: 827b9579b71e976ad569d59cc27f963e2a0f677f 172.22.0.6:6379\n",
      "   slots: (0 slots) slave\n",
      "   replicates 8323eb5ff1f6d9f18017269f603cd5f72e92f62b\n",
      "M: 3063245b7cd4185c8d8f1ff04f804f78b880b794 172.22.0.4:6379\n",
      "   slots:[0-99],[10923-16383] (5561 slots) master\n",
      "   1 additional replica(s)\n",
      "M: f5b18896cda57561477216f0a1dead7fbfa5c4c9 172.22.0.3:6379\n",
      "   slots:[5461-10922] (5462 slots) master\n",
      "\u001b[32;1m[OK] All nodes agree about slots configuration.\n",
      "\u001b[0m\u001b[29;1m>>> Check for open slots...\n",
      "\u001b[0m\u001b[29;1m>>> Check slots coverage...\n",
      "\u001b[0m\u001b[32;1m[OK] All 16384 slots covered.\n",
      "\u001b[0m"
     ]
    }
   ],
   "source": [
    "redis-cli --cluster check ${wks[0]}:6379"
   ]
  },
  {
   "cell_type": "code",
   "execution_count": 20,
   "metadata": {},
   "outputs": [
    {
     "name": "stdout",
     "output_type": "stream",
     "text": [
      "ab111d1c4c633704c6c24376765a83d5e91bd94489bbbece682aeb710a6557b3\n",
      "172.22.0.2 172.22.0.3 172.22.0.4 172.22.0.5 172.22.0.6 172.22.0.7 172.22.0.8 172.22.0.8\n"
     ]
    }
   ],
   "source": [
    "name=redis-wk7\n",
    "\n",
    "docker run --detach --name=$name --network=redis-net redis:local\n",
    "\n",
    "ip=$(docker inspect $name | jq -r '.[0].NetworkSettings.Networks.\"redis-net\".IPAddress')\n",
    "wks+=($ip)\n",
    "\n",
    "echo ${wks[@]}"
   ]
  },
  {
   "cell_type": "code",
   "execution_count": 21,
   "metadata": {},
   "outputs": [
    {
     "name": "stdout",
     "output_type": "stream",
     "text": [
      "\u001b[29;1m>>> Adding node 172.22.0.8:6379 to cluster 172.22.0.2:6379\n",
      "\u001b[0m\u001b[29;1m>>> Performing Cluster Check (using node 172.22.0.2:6379)\n",
      "\u001b[0mM: 8323eb5ff1f6d9f18017269f603cd5f72e92f62b 172.22.0.2:6379\n",
      "   slots:[100-5460] (5361 slots) master\n",
      "   1 additional replica(s)\n",
      "S: a9e7090ba1c798d59b43f2b19c5586341e357e54 172.22.0.5:6379\n",
      "   slots: (0 slots) slave\n",
      "   replicates 3063245b7cd4185c8d8f1ff04f804f78b880b794\n",
      "S: 827b9579b71e976ad569d59cc27f963e2a0f677f 172.22.0.6:6379\n",
      "   slots: (0 slots) slave\n",
      "   replicates 8323eb5ff1f6d9f18017269f603cd5f72e92f62b\n",
      "M: 3063245b7cd4185c8d8f1ff04f804f78b880b794 172.22.0.4:6379\n",
      "   slots:[0-99],[10923-16383] (5561 slots) master\n",
      "   1 additional replica(s)\n",
      "M: f5b18896cda57561477216f0a1dead7fbfa5c4c9 172.22.0.3:6379\n",
      "   slots:[5461-10922] (5462 slots) master\n",
      "\u001b[32;1m[OK] All nodes agree about slots configuration.\n",
      "\u001b[0m\u001b[29;1m>>> Check for open slots...\n",
      "\u001b[0m\u001b[29;1m>>> Check slots coverage...\n",
      "\u001b[0m\u001b[32;1m[OK] All 16384 slots covered.\n",
      "\u001b[0m\u001b[29;1m>>> Send CLUSTER MEET to node 172.22.0.8:6379 to make it join the cluster.\n",
      "\u001b[0m\u001b[32;1m[OK] New node added correctly.\n",
      "\u001b[0m"
     ]
    }
   ],
   "source": [
    "redis-cli --cluster add-node ${wks[-1]}:6379 ${wks[0]}:6379"
   ]
  },
  {
   "cell_type": "code",
   "execution_count": 22,
   "metadata": {},
   "outputs": [
    {
     "name": "stdout",
     "output_type": "stream",
     "text": [
      "172.22.0.2:6379 (8323eb5f...) -> 2 keys | 5361 slots | 1 slaves.\n",
      "172.22.0.4:6379 (3063245b...) -> 0 keys | 5561 slots | 1 slaves.\n",
      "172.22.0.8:6379 (3eac4a8a...) -> 0 keys | 0 slots | 0 slaves.\n",
      "172.22.0.3:6379 (f5b18896...) -> 0 keys | 5462 slots | 0 slaves.\n",
      "\u001b[32;1m[OK] 2 keys in 4 masters.\n",
      "\u001b[0m0.00 keys per slot on average.\n",
      "\u001b[29;1m>>> Performing Cluster Check (using node 172.22.0.2:6379)\n",
      "\u001b[0mM: 8323eb5ff1f6d9f18017269f603cd5f72e92f62b 172.22.0.2:6379\n",
      "   slots:[100-5460] (5361 slots) master\n",
      "   1 additional replica(s)\n",
      "S: a9e7090ba1c798d59b43f2b19c5586341e357e54 172.22.0.5:6379\n",
      "   slots: (0 slots) slave\n",
      "   replicates 3063245b7cd4185c8d8f1ff04f804f78b880b794\n",
      "S: 827b9579b71e976ad569d59cc27f963e2a0f677f 172.22.0.6:6379\n",
      "   slots: (0 slots) slave\n",
      "   replicates 8323eb5ff1f6d9f18017269f603cd5f72e92f62b\n",
      "M: 3063245b7cd4185c8d8f1ff04f804f78b880b794 172.22.0.4:6379\n",
      "   slots:[0-99],[10923-16383] (5561 slots) master\n",
      "   1 additional replica(s)\n",
      "M: 3eac4a8a954c21c24f7165d4b5f1e6637354628a 172.22.0.8:6379\n",
      "   slots: (0 slots) master\n",
      "M: f5b18896cda57561477216f0a1dead7fbfa5c4c9 172.22.0.3:6379\n",
      "   slots:[5461-10922] (5462 slots) master\n",
      "\u001b[32;1m[OK] All nodes agree about slots configuration.\n",
      "\u001b[0m\u001b[29;1m>>> Check for open slots...\n",
      "\u001b[0m\u001b[29;1m>>> Check slots coverage...\n",
      "\u001b[0m\u001b[32;1m[OK] All 16384 slots covered.\n",
      "\u001b[0m"
     ]
    }
   ],
   "source": [
    "redis-cli --cluster check ${wks[0]}:6379"
   ]
  },
  {
   "cell_type": "code",
   "execution_count": 23,
   "metadata": {},
   "outputs": [
    {
     "name": "stdout",
     "output_type": "stream",
     "text": [
      "\u001b[29;1m>>> Performing Cluster Check (using node 172.22.0.2:6379)\n",
      "\u001b[0m\u001b[32;1m[OK] All nodes agree about slots configuration.\n",
      "\u001b[0m\u001b[29;1m>>> Check for open slots...\n",
      "\u001b[0m\u001b[29;1m>>> Check slots coverage...\n",
      "\u001b[0m\u001b[32;1m[OK] All 16384 slots covered.\n",
      "\u001b[0m\u001b[33;1m*** No rebalancing needed! All nodes are within the 2.00% threshold.\n",
      "\u001b[0m"
     ]
    }
   ],
   "source": [
    "redis-cli --cluster rebalance ${wks[0]}:6379"
   ]
  },
  {
   "cell_type": "code",
   "execution_count": 24,
   "metadata": {},
   "outputs": [
    {
     "name": "stdout",
     "output_type": "stream",
     "text": [
      "172.22.0.2:6379 (8323eb5f...) -> 2 keys | 5361 slots | 1 slaves.\n",
      "172.22.0.4:6379 (3063245b...) -> 0 keys | 5561 slots | 1 slaves.\n",
      "172.22.0.8:6379 (3eac4a8a...) -> 0 keys | 0 slots | 0 slaves.\n",
      "172.22.0.3:6379 (f5b18896...) -> 0 keys | 5462 slots | 0 slaves.\n",
      "\u001b[32;1m[OK] 2 keys in 4 masters.\n",
      "\u001b[0m0.00 keys per slot on average.\n",
      "\u001b[29;1m>>> Performing Cluster Check (using node 172.22.0.2:6379)\n",
      "\u001b[0mM: 8323eb5ff1f6d9f18017269f603cd5f72e92f62b 172.22.0.2:6379\n",
      "   slots:[100-5460] (5361 slots) master\n",
      "   1 additional replica(s)\n",
      "S: a9e7090ba1c798d59b43f2b19c5586341e357e54 172.22.0.5:6379\n",
      "   slots: (0 slots) slave\n",
      "   replicates 3063245b7cd4185c8d8f1ff04f804f78b880b794\n",
      "S: 827b9579b71e976ad569d59cc27f963e2a0f677f 172.22.0.6:6379\n",
      "   slots: (0 slots) slave\n",
      "   replicates 8323eb5ff1f6d9f18017269f603cd5f72e92f62b\n",
      "M: 3063245b7cd4185c8d8f1ff04f804f78b880b794 172.22.0.4:6379\n",
      "   slots:[0-99],[10923-16383] (5561 slots) master\n",
      "   1 additional replica(s)\n",
      "M: 3eac4a8a954c21c24f7165d4b5f1e6637354628a 172.22.0.8:6379\n",
      "   slots: (0 slots) master\n",
      "M: f5b18896cda57561477216f0a1dead7fbfa5c4c9 172.22.0.3:6379\n",
      "   slots:[5461-10922] (5462 slots) master\n",
      "\u001b[32;1m[OK] All nodes agree about slots configuration.\n",
      "\u001b[0m\u001b[29;1m>>> Check for open slots...\n",
      "\u001b[0m\u001b[29;1m>>> Check slots coverage...\n",
      "\u001b[0m\u001b[32;1m[OK] All 16384 slots covered.\n",
      "\u001b[0m"
     ]
    }
   ],
   "source": [
    "redis-cli --cluster check ${wks[0]}:6379"
   ]
  },
  {
   "cell_type": "code",
   "execution_count": 25,
   "metadata": {},
   "outputs": [
    {
     "name": "stdout",
     "output_type": "stream",
     "text": [
      "01060cf95285608b76d921c5fe28dc5c0c739ce457801789a26bfa759e95e413\n",
      "172.22.0.2 172.22.0.3 172.22.0.4 172.22.0.5 172.22.0.6 172.22.0.7 172.22.0.8 172.22.0.8 172.22.0.9\n"
     ]
    }
   ],
   "source": [
    "name=redis-wk8\n",
    "\n",
    "docker run --detach --name=$name --network=redis-net redis:local\n",
    "\n",
    "ip=$(docker inspect $name | jq -r '.[0].NetworkSettings.Networks.\"redis-net\".IPAddress')\n",
    "wks+=($ip)\n",
    "\n",
    "echo ${wks[@]}"
   ]
  },
  {
   "cell_type": "code",
   "execution_count": 26,
   "metadata": {},
   "outputs": [
    {
     "name": "stdout",
     "output_type": "stream",
     "text": [
      "\u001b[29;1m>>> Adding node 172.22.0.9:6379 to cluster 172.22.0.2:6379\n",
      "\u001b[0m\u001b[29;1m>>> Performing Cluster Check (using node 172.22.0.2:6379)\n",
      "\u001b[0mM: 8323eb5ff1f6d9f18017269f603cd5f72e92f62b 172.22.0.2:6379\n",
      "   slots:[100-5460] (5361 slots) master\n",
      "   1 additional replica(s)\n",
      "S: a9e7090ba1c798d59b43f2b19c5586341e357e54 172.22.0.5:6379\n",
      "   slots: (0 slots) slave\n",
      "   replicates 3063245b7cd4185c8d8f1ff04f804f78b880b794\n",
      "S: 827b9579b71e976ad569d59cc27f963e2a0f677f 172.22.0.6:6379\n",
      "   slots: (0 slots) slave\n",
      "   replicates 8323eb5ff1f6d9f18017269f603cd5f72e92f62b\n",
      "M: 3063245b7cd4185c8d8f1ff04f804f78b880b794 172.22.0.4:6379\n",
      "   slots:[0-99],[10923-16383] (5561 slots) master\n",
      "   1 additional replica(s)\n",
      "M: 3eac4a8a954c21c24f7165d4b5f1e6637354628a 172.22.0.8:6379\n",
      "   slots: (0 slots) master\n",
      "M: f5b18896cda57561477216f0a1dead7fbfa5c4c9 172.22.0.3:6379\n",
      "   slots:[5461-10922] (5462 slots) master\n",
      "\u001b[32;1m[OK] All nodes agree about slots configuration.\n",
      "\u001b[0m\u001b[29;1m>>> Check for open slots...\n",
      "\u001b[0m\u001b[29;1m>>> Check slots coverage...\n",
      "\u001b[0m\u001b[32;1m[OK] All 16384 slots covered.\n",
      "\u001b[0mAutomatically selected master 172.22.0.8:6379\n",
      "\u001b[29;1m>>> Send CLUSTER MEET to node 172.22.0.9:6379 to make it join the cluster.\n",
      "\u001b[0mWaiting for the cluster to join\n",
      "\n",
      "\u001b[29;1m>>> Configure node as replica of 172.22.0.8:6379.\n",
      "\u001b[0m\u001b[32;1m[OK] New node added correctly.\n",
      "\u001b[0m"
     ]
    }
   ],
   "source": [
    "redis-cli --cluster add-node ${wks[-1]}:6379 ${wks[0]}:6379 --cluster-slave\n",
    "# --cluster-slave --cluster-master-id <arg>  # specify the master"
   ]
  },
  {
   "cell_type": "code",
   "execution_count": 27,
   "metadata": {},
   "outputs": [
    {
     "name": "stdout",
     "output_type": "stream",
     "text": [
      "172.22.0.2:6379 (8323eb5f...) -> 2 keys | 5361 slots | 1 slaves.\n",
      "172.22.0.4:6379 (3063245b...) -> 0 keys | 5561 slots | 1 slaves.\n",
      "172.22.0.8:6379 (3eac4a8a...) -> 0 keys | 0 slots | 1 slaves.\n",
      "172.22.0.3:6379 (f5b18896...) -> 0 keys | 5462 slots | 0 slaves.\n",
      "\u001b[32;1m[OK] 2 keys in 4 masters.\n",
      "\u001b[0m0.00 keys per slot on average.\n",
      "\u001b[29;1m>>> Performing Cluster Check (using node 172.22.0.2:6379)\n",
      "\u001b[0mM: 8323eb5ff1f6d9f18017269f603cd5f72e92f62b 172.22.0.2:6379\n",
      "   slots:[100-5460] (5361 slots) master\n",
      "   1 additional replica(s)\n",
      "S: a9e7090ba1c798d59b43f2b19c5586341e357e54 172.22.0.5:6379\n",
      "   slots: (0 slots) slave\n",
      "   replicates 3063245b7cd4185c8d8f1ff04f804f78b880b794\n",
      "S: 827b9579b71e976ad569d59cc27f963e2a0f677f 172.22.0.6:6379\n",
      "   slots: (0 slots) slave\n",
      "   replicates 8323eb5ff1f6d9f18017269f603cd5f72e92f62b\n",
      "M: 3063245b7cd4185c8d8f1ff04f804f78b880b794 172.22.0.4:6379\n",
      "   slots:[0-99],[10923-16383] (5561 slots) master\n",
      "   1 additional replica(s)\n",
      "S: c8a09efebc8e9ba3ec8682c06c0437a3274303d4 172.22.0.9:6379\n",
      "   slots: (0 slots) slave\n",
      "   replicates 3eac4a8a954c21c24f7165d4b5f1e6637354628a\n",
      "M: 3eac4a8a954c21c24f7165d4b5f1e6637354628a 172.22.0.8:6379\n",
      "   slots: (0 slots) master\n",
      "   1 additional replica(s)\n",
      "M: f5b18896cda57561477216f0a1dead7fbfa5c4c9 172.22.0.3:6379\n",
      "   slots:[5461-10922] (5462 slots) master\n",
      "\u001b[32;1m[OK] All nodes agree about slots configuration.\n",
      "\u001b[0m\u001b[29;1m>>> Check for open slots...\n",
      "\u001b[0m\u001b[29;1m>>> Check slots coverage...\n",
      "\u001b[0m\u001b[32;1m[OK] All 16384 slots covered.\n",
      "\u001b[0m"
     ]
    }
   ],
   "source": [
    "redis-cli --cluster check ${wks[0]}:6379"
   ]
  },
  {
   "cell_type": "code",
   "execution_count": 28,
   "metadata": {},
   "outputs": [
    {
     "name": "stdout",
     "output_type": "stream",
     "text": [
      "172.22.0.2:6379 (8323eb5f...) -> 2 keys | 5361 slots | 1 slaves.\n",
      "172.22.0.4:6379 (3063245b...) -> 0 keys | 5561 slots | 1 slaves.\n",
      "172.22.0.8:6379 (3eac4a8a...) -> 0 keys | 0 slots | 0 slaves.\n",
      "172.22.0.3:6379 (f5b18896...) -> 0 keys | 5462 slots | 1 slaves.\n",
      "\u001b[32;1m[OK] 2 keys in 4 masters.\n",
      "\u001b[0m0.00 keys per slot on average.\n",
      "\u001b[29;1m>>> Performing Cluster Check (using node 172.22.0.2:6379)\n",
      "\u001b[0mM: 8323eb5ff1f6d9f18017269f603cd5f72e92f62b 172.22.0.2:6379\n",
      "   slots:[100-5460] (5361 slots) master\n",
      "   1 additional replica(s)\n",
      "S: a9e7090ba1c798d59b43f2b19c5586341e357e54 172.22.0.5:6379\n",
      "   slots: (0 slots) slave\n",
      "   replicates 3063245b7cd4185c8d8f1ff04f804f78b880b794\n",
      "S: 827b9579b71e976ad569d59cc27f963e2a0f677f 172.22.0.6:6379\n",
      "   slots: (0 slots) slave\n",
      "   replicates 8323eb5ff1f6d9f18017269f603cd5f72e92f62b\n",
      "M: 3063245b7cd4185c8d8f1ff04f804f78b880b794 172.22.0.4:6379\n",
      "   slots:[0-99],[10923-16383] (5561 slots) master\n",
      "   1 additional replica(s)\n",
      "S: c8a09efebc8e9ba3ec8682c06c0437a3274303d4 172.22.0.9:6379\n",
      "   slots: (0 slots) slave\n",
      "   replicates f5b18896cda57561477216f0a1dead7fbfa5c4c9\n",
      "M: 3eac4a8a954c21c24f7165d4b5f1e6637354628a 172.22.0.8:6379\n",
      "   slots: (0 slots) master\n",
      "M: f5b18896cda57561477216f0a1dead7fbfa5c4c9 172.22.0.3:6379\n",
      "   slots:[5461-10922] (5462 slots) master\n",
      "   1 additional replica(s)\n",
      "\u001b[32;1m[OK] All nodes agree about slots configuration.\n",
      "\u001b[0m\u001b[29;1m>>> Check for open slots...\n",
      "\u001b[0m\u001b[29;1m>>> Check slots coverage...\n",
      "\u001b[0m\u001b[32;1m[OK] All 16384 slots covered.\n",
      "\u001b[0m"
     ]
    }
   ],
   "source": [
    "# redis-cli -c -h ${wks[-1]}\n",
    "# >>> cluster replicate f5b18896cda57561477216f0a1dead7fbfa5c4c9\n",
    "\n",
    "redis-cli --cluster check ${wks[0]}:6379"
   ]
  },
  {
   "cell_type": "code",
   "execution_count": 40,
   "metadata": {},
   "outputs": [
    {
     "name": "stdout",
     "output_type": "stream",
     "text": [
      ">>> 9 nodes\n",
      "172.22.0.2 172.22.0.3 172.22.0.4 172.22.0.5 172.22.0.6 172.22.0.7 172.22.0.8 172.22.0.8 172.22.0.9\n",
      "172.22.0.5 172.22.0.6 172.22.0.7 172.22.0.8 172.22.0.8 172.22.0.9\n",
      "172.22.0.3 172.22.0.4 172.22.0.5 172.22.0.6 172.22.0.7\n",
      "172.22.0.8 172.22.0.8\n"
     ]
    }
   ],
   "source": [
    "echo \">>> ${#wks[@]} nodes\"\n",
    "\n",
    "echo ${wks[@]}\n",
    "echo ${wks[@]:3}\n",
    "echo ${wks[@]:1:5}\n",
    "\n",
    "echo \"${wks[@]: -3:2}\""
   ]
  },
  {
   "cell_type": "code",
   "execution_count": 42,
   "metadata": {},
   "outputs": [
    {
     "name": "stdout",
     "output_type": "stream",
     "text": [
      "Error: Server closed the connection\n"
     ]
    },
    {
     "ename": "",
     "evalue": "1",
     "output_type": "error",
     "traceback": []
    }
   ],
   "source": [
    "redis-cli -h ${wks[1]} debug segfault"
   ]
  },
  {
   "cell_type": "code",
   "execution_count": 55,
   "metadata": {},
   "outputs": [
    {
     "name": "stdout",
     "output_type": "stream",
     "text": [
      "172.22.0.2 172.22.0.3 172.22.0.4 172.22.0.5 172.22.0.6 172.22.0.7 172.22.0.8 172.22.0.8 172.22.0.9\n"
     ]
    }
   ],
   "source": [
    "echo ${wks[@]}"
   ]
  },
  {
   "cell_type": "code",
   "execution_count": 56,
   "metadata": {},
   "outputs": [
    {
     "name": "stdout",
     "output_type": "stream",
     "text": [
      "Could not connect to Redis at 172.22.0.2:6379: No route to host\n",
      "Could not connect to Redis at 172.22.0.3:6379: No route to host\n",
      "\u001b[33;1m*** WARNING: 172.22.0.9:6379 claims to be slave of unknown node ID f5b18896cda57561477216f0a1dead7fbfa5c4c9.\n",
      "\u001b[0m\u001b[33;1m*** WARNING: 172.22.0.6:6379 claims to be slave of unknown node ID 8323eb5ff1f6d9f18017269f603cd5f72e92f62b.\n",
      "\u001b[0m172.22.0.4:6379 (3063245b...) -> 0 keys | 5561 slots | 1 slaves.\n",
      "172.22.0.8:6379 (3eac4a8a...) -> 0 keys | 0 slots | 0 slaves.\n",
      "\u001b[32;1m[OK] 0 keys in 2 masters.\n",
      "\u001b[0m0.00 keys per slot on average.\n",
      "\u001b[29;1m>>> Performing Cluster Check (using node 172.22.0.4:6379)\n",
      "\u001b[0mM: 3063245b7cd4185c8d8f1ff04f804f78b880b794 172.22.0.4:6379\n",
      "   slots:[0-99],[10923-16383] (5561 slots) master\n",
      "   1 additional replica(s)\n",
      "S: c8a09efebc8e9ba3ec8682c06c0437a3274303d4 172.22.0.9:6379\n",
      "   slots: (0 slots) slave\n",
      "   replicates f5b18896cda57561477216f0a1dead7fbfa5c4c9\n",
      "M: 3eac4a8a954c21c24f7165d4b5f1e6637354628a 172.22.0.8:6379\n",
      "   slots: (0 slots) master\n",
      "S: a9e7090ba1c798d59b43f2b19c5586341e357e54 172.22.0.5:6379\n",
      "   slots: (0 slots) slave\n",
      "   replicates 3063245b7cd4185c8d8f1ff04f804f78b880b794\n",
      "S: 827b9579b71e976ad569d59cc27f963e2a0f677f 172.22.0.6:6379\n",
      "   slots: (0 slots) slave\n",
      "   replicates 8323eb5ff1f6d9f18017269f603cd5f72e92f62b\n",
      "\u001b[32;1m[OK] All nodes agree about slots configuration.\n",
      "\u001b[0m\u001b[29;1m>>> Check for open slots...\n",
      "\u001b[0m\u001b[29;1m>>> Check slots coverage...\n",
      "\u001b[0m\u001b[31;1m[ERR] Not all 16384 slots are covered by nodes.\n",
      "\n",
      "\u001b[0m"
     ]
    },
    {
     "ename": "",
     "evalue": "1",
     "output_type": "error",
     "traceback": []
    }
   ],
   "source": [
    "redis-cli --cluster check ${wks[2]}:6379"
   ]
  },
  {
   "cell_type": "code",
   "execution_count": 58,
   "metadata": {},
   "outputs": [
    {
     "name": "stdout",
     "output_type": "stream",
     "text": [
      "8323eb5ff1f6d9f18017269f603cd5f72e92f62b 172.22.0.2:6379@16379 master,fail - 1603801324541 1603801322000 1 disconnected 100-5460\n",
      "f5b18896cda57561477216f0a1dead7fbfa5c4c9 172.22.0.3:6379@16379 master,fail - 1603801327953 1603801326949 2 connected 5461-10922\n",
      "c8a09efebc8e9ba3ec8682c06c0437a3274303d4 172.22.0.9:6379@16379 slave f5b18896cda57561477216f0a1dead7fbfa5c4c9 0 1603802002504 2 connected\n",
      "3eac4a8a954c21c24f7165d4b5f1e6637354628a 172.22.0.8:6379@16379 master - 0 1603802003608 8 connected\n",
      "3063245b7cd4185c8d8f1ff04f804f78b880b794 172.22.0.4:6379@16379 myself,master - 0 1603802002000 7 connected 0-99 10923-16383\n",
      "a9e7090ba1c798d59b43f2b19c5586341e357e54 172.22.0.5:6379@16379 slave 3063245b7cd4185c8d8f1ff04f804f78b880b794 0 1603802003507 7 connected\n",
      "827b9579b71e976ad569d59cc27f963e2a0f677f 172.22.0.6:6379@16379 slave 8323eb5ff1f6d9f18017269f603cd5f72e92f62b 0 1603802003000 1 connected\n"
     ]
    }
   ],
   "source": [
    "redis-cli -h ${wks[2]} -p 6379 cluster nodes"
   ]
  },
  {
   "cell_type": "code",
   "execution_count": 59,
   "metadata": {},
   "outputs": [
    {
     "name": "stdout",
     "output_type": "stream",
     "text": [
      "\u001b[29;1m>>> Removing node 8323eb5ff1f6d9f18017269f603cd5f72e92f62b from cluster 172.22.0.4:6379\n",
      "Could not connect to Redis at 172.22.0.2:6379: No route to host\n",
      "Could not connect to Redis at 172.22.0.3:6379: No route to host\n",
      "\u001b[0m\u001b[33;1m*** WARNING: 172.22.0.9:6379 claims to be slave of unknown node ID f5b18896cda57561477216f0a1dead7fbfa5c4c9.\n",
      "\u001b[0m\u001b[33;1m*** WARNING: 172.22.0.6:6379 claims to be slave of unknown node ID 8323eb5ff1f6d9f18017269f603cd5f72e92f62b.\n",
      "\u001b[0m\u001b[31;1m[ERR] No such node ID 8323eb5ff1f6d9f18017269f603cd5f72e92f62b\n",
      "\u001b[0m"
     ]
    },
    {
     "ename": "",
     "evalue": "1",
     "output_type": "error",
     "traceback": []
    }
   ],
   "source": [
    "redis-cli --cluster del-node ${wks[2]}:6379 8323eb5ff1f6d9f18017269f603cd5f72e92f62b"
   ]
  },
  {
   "cell_type": "code",
   "execution_count": null,
   "metadata": {},
   "outputs": [],
   "source": [
    "redis-cli --cluster fix ${wks[2]}:6379"
   ]
  },
  {
   "cell_type": "code",
   "execution_count": 60,
   "metadata": {},
   "outputs": [
    {
     "name": "stdout",
     "output_type": "stream",
     "text": [
      "c8a09efebc8e9ba3ec8682c06c0437a3274303d4 172.22.0.9:6379@16379 slave - 0 1603802604827 8 connected\n",
      "3eac4a8a954c21c24f7165d4b5f1e6637354628a 172.22.0.8:6379@16379 master - 0 1603802605831 8 connected\n",
      "3063245b7cd4185c8d8f1ff04f804f78b880b794 172.22.0.4:6379@16379 myself,master - 0 1603802604000 7 connected 0-99 10923-16383\n",
      "a9e7090ba1c798d59b43f2b19c5586341e357e54 172.22.0.5:6379@16379 slave 3063245b7cd4185c8d8f1ff04f804f78b880b794 0 1603802604527 7 connected\n",
      "827b9579b71e976ad569d59cc27f963e2a0f677f 172.22.0.6:6379@16379 slave - 0 1603802605000 5 connected\n"
     ]
    }
   ],
   "source": []
  },
  {
   "cell_type": "code",
   "execution_count": 64,
   "metadata": {},
   "outputs": [
    {
     "name": "stdout",
     "output_type": "stream",
     "text": [
      "(error) ERR Unknown node 8323eb5ff1f6d9f18017269f603cd5f72e92f62b\n",
      "(error) ERR Unknown node f5b18896cda57561477216f0a1dead7fbfa5c4c9\n"
     ]
    }
   ],
   "source": [
    "redis-cli -h ${wks[2]} -p 6379 cluster forget 8323eb5ff1f6d9f18017269f603cd5f72e92f62b\n",
    "\n",
    "redis-cli -h ${wks[2]} -p 6379 cluster forget f5b18896cda57561477216f0a1dead7fbfa5c4c9"
   ]
  },
  {
   "cell_type": "code",
   "execution_count": 66,
   "metadata": {},
   "outputs": [
    {
     "name": "stdout",
     "output_type": "stream",
     "text": [
      "redis-wk3\n",
      "redis-wk4\n",
      "redis-wk5\n",
      "redis-wk6\n",
      "redis-wk7\n",
      "redis-wk8\n",
      "Error: No such container: redis-wk1\n",
      "Error: No such container: redis-wk2\n"
     ]
    },
    {
     "ename": "",
     "evalue": "1",
     "output_type": "error",
     "traceback": []
    }
   ],
   "source": [
    "##!! remove containers\n",
    "\n",
    "docker rm -f redis-wk{1..8}"
   ]
  },
  {
   "cell_type": "code",
   "execution_count": 67,
   "metadata": {},
   "outputs": [
    {
     "name": "stdout",
     "output_type": "stream",
     "text": [
      "CONTAINER ID        IMAGE               COMMAND             CREATED             STATUS              PORTS               NAMES\n"
     ]
    }
   ],
   "source": [
    "docker ps -a"
   ]
  }
 ],
 "metadata": {
  "kernelspec": {
   "display_name": "Bash",
   "language": "bash",
   "name": "bash"
  },
  "language_info": {
   "codemirror_mode": "shell",
   "file_extension": ".sh",
   "mimetype": "text/x-sh",
   "name": "bash"
  }
 },
 "nbformat": 4,
 "nbformat_minor": 4
}
